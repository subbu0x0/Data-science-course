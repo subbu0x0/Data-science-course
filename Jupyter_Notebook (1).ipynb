{
  "metadata": {
    "kernelspec": {
      "name": "python",
      "display_name": "Python (Pyodide)",
      "language": "python"
    },
    "language_info": {
      "codemirror_mode": {
        "name": "python",
        "version": 3
      },
      "file_extension": ".py",
      "mimetype": "text/x-python",
      "name": "python",
      "nbconvert_exporter": "python",
      "pygments_lexer": "ipython3",
      "version": "3.8"
    }
  },
  "nbformat_minor": 4,
  "nbformat": 4,
  "cells": [
    {
      "cell_type": "markdown",
      "source": "<center>\n    <img src=\"https://cf-courses-data.s3.us.cloud-object-storage.appdomain.cloud/IBMDeveloperSkillsNetwork-DS0105EN-SkillsNetwork/labs/Module2/images/SN_web_lightmode.png\" width=\"300\" alt=\"cognitiveclass.ai logo\"  />\n</center>\n",
      "metadata": {}
    },
    {
      "cell_type": "markdown",
      "source": "#### Add your code below following the instructions given in the course\n",
      "metadata": {}
    },
    {
      "cell_type": "markdown",
      "source": "# My Jupyter Notebook on IBM Watson Studio",
      "metadata": {}
    },
    {
      "cell_type": "markdown",
      "source": "__Subbu__\n\nBusiness Analyst",
      "metadata": {}
    },
    {
      "cell_type": "markdown",
      "source": "*I like analyzing things to get useful insights and data science is just doing that*",
      "metadata": {}
    },
    {
      "cell_type": "markdown",
      "source": "### Multiplying a string and a number",
      "metadata": {}
    },
    {
      "cell_type": "code",
      "source": "s = 'hello'\nn = 5\nmultiply = s*n\nprint(multiply)",
      "metadata": {
        "trusted": true
      },
      "execution_count": 3,
      "outputs": [
        {
          "name": "stdout",
          "text": "hellohellohellohellohello\n",
          "output_type": "stream"
        }
      ]
    },
    {
      "cell_type": "markdown",
      "source": ">A blockquote\n\n```Python\nvar = \"This is a code/syntax highlighting\"\nprint(var)\n```\n                                                                  \n\n\n|cell12|cell21|\n|------|------|\n|cell21|cell22|\n\n<a href=\"https://www.ibm.com\" ><b>Click here to IBM</b></a>\n\n<ul>\n<li>one</li>\n<li>Eggs</li>\n<li>Cheese</li>\n</ul>",
      "metadata": {}
    },
    {
      "cell_type": "code",
      "source": "",
      "metadata": {},
      "execution_count": null,
      "outputs": []
    }
  ]
}